{
  "nbformat": 4,
  "nbformat_minor": 0,
  "metadata": {
    "colab": {
      "provenance": []
    },
    "kernelspec": {
      "name": "python3",
      "display_name": "Python 3"
    },
    "language_info": {
      "name": "python"
    }
  },
  "cells": [
    {
      "cell_type": "code",
      "execution_count": 2,
      "metadata": {
        "colab": {
          "base_uri": "https://localhost:8080/"
        },
        "id": "KQjH6_jTI1m3",
        "outputId": "27726b1e-8144-4ae7-ed86-8eec179cbc0a"
      },
      "outputs": [
        {
          "output_type": "stream",
          "name": "stdout",
          "text": [
            "Training done! Learned Q-values for 4970 state-action pairs.\n",
            "\n",
            "Best coupon per state (sample):\n",
            "State=_Spend=131.44... -> Best coupon 6 (Q=1.07)\n",
            "State=_Spend=1131.65... -> Best coupon 416 (Q=-0.22)\n",
            "State=_Spend=403.94... -> Best coupon 868 (Q=-0.09)\n",
            "State=_Spend=106.5... -> Best coupon 786 (Q=1.50)\n",
            "State=_Spend=1722.58... -> Best coupon 416 (Q=-0.21)\n",
            "State=_Spend=142.12... -> Best coupon 8 (Q=1.27)\n",
            "State=_Spend=67.32... -> Best coupon 325 (Q=1.62)\n",
            "State=_Spend=177.74... -> Best coupon 468 (Q=0.72)\n",
            "State=_Spend=248.98... -> Best coupon 23 (Q=0.79)\n",
            "State=_Spend=2687.53... -> Best coupon 416 (Q=-0.45)\n",
            "Best coupon for Marital=Single|Age=18-25|Spend=120.5 , None\n"
          ]
        }
      ],
      "source": [
        "import pandas as pd\n",
        "import numpy as np\n",
        "from collections import defaultdict\n",
        "\n",
        "# load the MDP dataset\n",
        "df = pd.read_csv(\"/content/mdprewards.csv\")\n",
        "\n",
        "# hyperparameters\n",
        "alpha = 0.1    # learning rate\n",
        "gamma = 0.9    # discount factor\n",
        "episodes = 5   # number of passes over dataset (can increase)\n",
        "\n",
        "# initialize Q-table as dictionary: Q[(state, action)] = value\n",
        "Q = defaultdict(float)\n",
        "\n",
        "# training loop\n",
        "for ep in range(episodes):\n",
        "    for _, row in df.iterrows():\n",
        "        state = row[\"state\"]\n",
        "        action = row[\"action\"]\n",
        "        reward = row[\"mdpreward\"]\n",
        "        next_state = row[\"next_state\"]\n",
        "\n",
        "        # current Q value\n",
        "        old_q = Q[(state, action)]\n",
        "\n",
        "        # best future Q value from next_state\n",
        "        future_q = 0\n",
        "        if pd.notna(next_state):  # ignore if no next state\n",
        "            future_actions = df[df[\"state\"] == next_state][\"action\"].unique()\n",
        "            if len(future_actions) > 0:\n",
        "                future_q = max(Q[(next_state, a)] for a in future_actions)\n",
        "\n",
        "        # Q-learning update\n",
        "        Q[(state, action)] = old_q + alpha * (reward + gamma * future_q - old_q)\n",
        "\n",
        "print(\"Training done! Learned Q-values for\", len(Q), \"state-action pairs.\")\n",
        "\n",
        "# Example: get best action per state\n",
        "policy = {}\n",
        "for (s, a), val in Q.items():\n",
        "    if s not in policy or val > policy[s][1]:\n",
        "        policy[s] = (a, val)\n",
        "\n",
        "print(\"\\nBest coupon per state (sample):\")\n",
        "for s, (a, v) in list(policy.items())[:10]:\n",
        "    print(f\"State={s[:50]}... -> Best coupon {a} (Q={v:.2f})\")\n",
        "\n",
        "def policy(state):\n",
        "    # pick the action with the highest Q-value for this state\n",
        "    actions = [a for (s, a) in Q if s == state]\n",
        "    if not actions:   # no actions found\n",
        "        return None\n",
        "    return max(actions, key=lambda a: Q[(state, a)])\n",
        "\n",
        "example_state = \"Marital=Single|Age=18-25|Spend=120.5\"\n",
        "best_coupon = policy(example_state)\n",
        "print(\"Best coupon for\", example_state, \",\", best_coupon)\n"
      ]
    }
  ]
}