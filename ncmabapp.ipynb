{
  "nbformat": 4,
  "nbformat_minor": 0,
  "metadata": {
    "colab": {
      "provenance": []
    },
    "kernelspec": {
      "name": "python3",
      "display_name": "Python 3"
    },
    "language_info": {
      "name": "python"
    }
  },
  "cells": [
    {
      "cell_type": "code",
      "execution_count": 5,
      "metadata": {
        "colab": {
          "base_uri": "https://localhost:8080/"
        },
        "id": "Jc38VEXLR4Xp",
        "outputId": "d4f21532-5bf6-4feb-e9c7-cf4232b3ed0b"
      },
      "outputs": [
        {
          "output_type": "stream",
          "name": "stdout",
          "text": [
            "Shape: (313919, 54)\n",
            "   coupon_id  reward\n",
            "0         20       1\n",
            "1         23       2\n",
            "2         23       2\n",
            "3       1031       3\n",
            "4         23       3\n",
            "Number of unique coupons (actions): 769\n",
            "Average reward: 1.964560921766443\n",
            "Top coupons by learned Q-values:\n",
            "Coupon 131 → Estimated value 1.98\n",
            "Coupon 854 → Estimated value 1.97\n",
            "Coupon 64 → Estimated value 1.97\n",
            "Coupon 882 → Estimated value 1.97\n",
            "Coupon 459 → Estimated value 1.97\n",
            "Coupon 314 → Estimated value 1.97\n",
            "Coupon 4 → Estimated value 1.97\n",
            "Coupon 677 → Estimated value 1.97\n",
            "Coupon 675 → Estimated value 1.97\n",
            "Coupon 334 → Estimated value 1.97\n"
          ]
        }
      ],
      "source": [
        "import pandas as pd\n",
        "df = pd.read_csv(r\"/content/finalencodedds.csv\")\n",
        "df = df.sample(frac=1, random_state=42).reset_index(drop=True)\n",
        "\n",
        "print(\"Shape:\", df.shape)\n",
        "print(df[[\"coupon_id\", \"reward\"]].head())\n",
        "import numpy as np\n",
        "from collections import defaultdict\n",
        "\n",
        "# unique actions (coupons)\n",
        "actions = df[\"coupon_id\"].unique()\n",
        "n_actions = len(actions)\n",
        "print(\"Number of unique coupons (actions):\", n_actions)\n",
        "\n",
        "# map coupon ids to indices\n",
        "action_to_idx = {a: i for i, a in enumerate(actions)}\n",
        "# epsilon-greedy params\n",
        "epsilon = 0.1\n",
        "n_steps = len(df)   # one step per row\n",
        "Q = np.zeros(n_actions)   # estimated value of each coupon\n",
        "N = np.zeros(n_actions)   # count how many times each coupon was tried\n",
        "\n",
        "# store rewards\n",
        "total_rewards = []\n",
        "\n",
        "for row in df.itertuples(index=False):\n",
        "    reward = row.reward\n",
        "\n",
        "    # choose action\n",
        "    if np.random.rand() < epsilon:\n",
        "        action_idx = np.random.randint(n_actions)   # explore\n",
        "    else:\n",
        "        action_idx = np.argmax(Q)                   # exploit\n",
        "\n",
        "    # update estimates\n",
        "    N[action_idx] += 1\n",
        "    Q[action_idx] += (reward - Q[action_idx]) / N[action_idx]\n",
        "\n",
        "    total_rewards.append(reward)\n",
        "\n",
        "print(\"Average reward:\", np.mean(total_rewards))\n",
        "best_coupons = np.argsort(Q)[::-1][:10]   # top 10\n",
        "print(\"Top coupons by learned Q-values:\")\n",
        "for idx in best_coupons:\n",
        "    print(f\"Coupon {actions[idx]} → Estimated value {Q[idx]:.2f}\")"
      ]
    }
  ]
}