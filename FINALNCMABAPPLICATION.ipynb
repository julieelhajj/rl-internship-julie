{
  "nbformat": 4,
  "nbformat_minor": 0,
  "metadata": {
    "colab": {
      "provenance": []
    },
    "kernelspec": {
      "name": "python3",
      "display_name": "Python 3"
    },
    "language_info": {
      "name": "python"
    }
  },
  "cells": [
    {
      "cell_type": "code",
      "execution_count": 2,
      "metadata": {
        "colab": {
          "base_uri": "https://localhost:8080/"
        },
        "id": "J06U2tjECYdk",
        "outputId": "6b5ce36b-e140-4e27-c2c1-4aa34f371841"
      },
      "outputs": [
        {
          "output_type": "stream",
          "name": "stdout",
          "text": [
            "Shape: (25249, 36)\n",
            "   coupon_id  reward\n",
            "0          7       1\n",
            "1        443       2\n",
            "2          8       2\n",
            "3          7       1\n",
            "4         22       1\n",
            "Number of unique coupons (actions): 610\n",
            "Average reward: 1.4988316368965107\n",
            "Top coupons:\n",
            "Coupon 609 → Estimated value 1.54\n",
            "Coupon 1019 → Estimated value 1.54\n",
            "Coupon 579 → Estimated value 1.54\n",
            "Coupon 1012 → Estimated value 1.52\n",
            "Coupon 776 → Estimated value 1.52\n",
            "Coupon 342 → Estimated value 1.52\n",
            "Coupon 301 → Estimated value 1.52\n",
            "Coupon 357 → Estimated value 1.51\n",
            "Coupon 531 → Estimated value 1.51\n",
            "Coupon 436 → Estimated value 1.51\n"
          ]
        }
      ],
      "source": [
        "import pandas as pd\n",
        "df = pd.read_csv(\"/content/finalencodeddsfr.csv\")\n",
        "df = df.sample(frac=1, random_state=42).reset_index(drop=True)\n",
        "\n",
        "print(\"Shape:\", df.shape)\n",
        "print(df[[\"coupon_id\", \"reward\"]].head())\n",
        "import numpy as np\n",
        "from collections import defaultdict\n",
        "\n",
        "# unique actions (coupons)\n",
        "actions = df[\"coupon_id\"].unique()\n",
        "n_actions = len(actions)\n",
        "print(\"Number of unique coupons (actions):\", n_actions)\n",
        "\n",
        "# map coupon ids to indices\n",
        "action_to_idx = {a: i for i, a in enumerate(actions)}\n",
        "# epsilon-greedy params\n",
        "epsilon = 0.1\n",
        "n_steps = len(df)   # one step per row\n",
        "Q = np.zeros(n_actions)   # estimated value of each coupon\n",
        "N = np.zeros(n_actions)   # count how many times each coupon was tried\n",
        "\n",
        "# store rewards\n",
        "total_rewards = []\n",
        "\n",
        "for row in df.itertuples(index=False):\n",
        "    reward = row.reward\n",
        "\n",
        "    # choose action\n",
        "    if np.random.rand() < epsilon:\n",
        "        action_idx = np.random.randint(n_actions)   # explore\n",
        "    else:\n",
        "        action_idx = np.argmax(Q)                   # exploit\n",
        "\n",
        "    # update estimates\n",
        "    N[action_idx] += 1\n",
        "    Q[action_idx] += (reward - Q[action_idx]) / N[action_idx]\n",
        "\n",
        "    total_rewards.append(reward)\n",
        "\n",
        "print(\"Average reward:\", np.mean(total_rewards))\n",
        "best_coupons = np.argsort(Q)[::-1][:10]   # top 10\n",
        "print(\"Top coupons:\")\n",
        "for idx in best_coupons:\n",
        "    print(f\"Coupon {actions[idx]} → Estimated value {Q[idx]:.2f}\")"
      ]
    }
  ]
}